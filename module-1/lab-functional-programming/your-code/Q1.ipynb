{
 "cells": [
  {
   "cell_type": "markdown",
   "metadata": {},
   "source": [
    "In the cell below, create a Python function that wraps your previous solution for the Bag of Words lab.\n",
    "\n",
    "Requirements:\n",
    "\n",
    "1. Your function should accept the following parameters:\n",
    "    * `docs` [REQUIRED] - array of document paths.\n",
    "    * `stop_words` [OPTIONAL] - array of stop words. The default value is an empty array.\n",
    "\n",
    "1. Your function should return a Python object that contains the following:\n",
    "    * `bag_of_words` - array of strings of normalized unique words in the corpus.\n",
    "    * `term_freq` - array of the term-frequency vectors."
   ]
  },
  {
   "cell_type": "code",
   "execution_count": 3,
   "metadata": {},
   "outputs": [],
   "source": [
    "# Import required libraries\n",
    "import re\n",
    "import os\n",
    "# Define function\n",
    "def get_bow_from_docs(docs, stop_words=[]):\n",
    "    \n",
    "    # In the function, first define the variables you will use such as `corpus`, `bag_of_words`, and `term_freq`.\n",
    "    \n",
    "    corpus = []\n",
    "    bag_of_words = []\n",
    "    term_freq = []\n",
    "    \n",
    "    \"\"\"\n",
    "    Loop `docs` and read the content of each doc into a string in `corpus`.\n",
    "    Remember to convert the doc content to lowercases and remove punctuation.\n",
    "    \"\"\"\n",
    "\n",
    "    corpus = [line.strip() for doc in docs for line in open(doc,'r')]\n",
    "    corpus = [re.sub(r'[^\\w\\s]','',s).lower() for s in corpus]\n",
    "    \n",
    "    \"\"\"\n",
    "    Loop `corpus`. Append the terms in each doc into the `bag_of_words` array. The terms in `bag_of_words` \n",
    "    should be unique which means before adding each term you need to check if it's already added to the array.\n",
    "    In addition, check if each term is in the `stop_words` array. Only append the term to `bag_of_words`\n",
    "    if it is not a stop word.\n",
    "    \"\"\"\n",
    "\n",
    "    \n",
    "    for part in corpus:\n",
    "        word_array = part.split()\n",
    "        for new_word in word_array:\n",
    "            if (new_word not in stop_words) & (new_word not in bag_of_words):\n",
    "                bag_of_words.append(new_word)\n",
    "    \n",
    "    \"\"\"\n",
    "    Loop `corpus` again. For each doc string, count the number of occurrences of each term in `bag_of_words`. \n",
    "    Create an array for each doc's term frequency and append it to `term_freq`.\n",
    "    \"\"\"\n",
    "    \n",
    "    for sentence in corpus:\n",
    "        term_freq.append([sentence.split().count(word) for word in bag_of_words])\n",
    "\n",
    "    # Now return your output as an object\n",
    "    return {\n",
    "        \"bag_of_words\": bag_of_words,\n",
    "        \"term_freq\": term_freq\n",
    "    }\n",
    "    "
   ]
  },
  {
   "cell_type": "markdown",
   "metadata": {},
   "source": [
    "Test your function without stop words. You should see the output like below:\n",
    "\n",
    "```{'bag_of_words': ['ironhack', 'is', 'cool', 'i', 'love', 'am', 'a', 'student', 'at'], 'term_freq': [[1, 1, 1, 0, 0, 0, 0, 0, 0], [1, 0, 0, 1, 1, 0, 0, 0, 0], [1, 0, 0, 1, 0, 1, 1, 1, 1]]}```"
   ]
  },
  {
   "cell_type": "code",
   "execution_count": 8,
   "metadata": {},
   "outputs": [
    {
     "name": "stdout",
     "output_type": "stream",
     "text": [
      "{'bag_of_words': ['ironhack', 'is', 'cool', 'i', 'love', 'am', 'a', 'student', 'at'], 'term_freq': [[1, 1, 1, 0, 0, 0, 0, 0, 0], [1, 0, 0, 1, 1, 0, 0, 0, 0], [1, 0, 0, 1, 0, 1, 1, 1, 1]]}\n"
     ]
    }
   ],
   "source": [
    "# Define doc paths array\n",
    "path = '../../lab-string-operations/your-code/'\n",
    "docs = [path+'doc1.txt', path+'doc2.txt', path+'doc3.txt']\n",
    "\n",
    "# Obtain BoW from your function\n",
    "bow = get_bow_from_docs(docs)\n",
    "\n",
    "# Print BoW\n",
    "print(bow)"
   ]
  },
  {
   "cell_type": "markdown",
   "metadata": {},
   "source": [
    "If your attempt above is successful, nice work done!\n",
    "\n",
    "Now test your function again with the stop words. In the previous lab we defined the stop words in a large array. In this lab, we'll import the stop words from Scikit-Learn."
   ]
  },
  {
   "cell_type": "code",
   "execution_count": 9,
   "metadata": {},
   "outputs": [
    {
     "name": "stdout",
     "output_type": "stream",
     "text": [
      "frozenset({'hasnt', 'something', 'were', 'side', 'anyway', 'namely', 'system', 'yourself', 'without', 'through', 'before', 'thus', 'from', 'eight', 'nine', 'then', 'twelve', 'via', 'herein', 'could', 'ever', 'either', 'no', 'this', 'these', 'everything', 'therefore', 'first', 'being', 'hereupon', 'further', 'amount', 'empty', 'us', 'seems', 'put', 'seeming', 'anyhow', 'take', 'least', 'so', 'hereby', 'both', 'him', 'next', 'up', 'seem', 'for', 'towards', 'couldnt', 'else', 'i', 'below', 'fill', 'nothing', 'hence', 'except', 'less', 'ten', 'between', 'our', 'becomes', 'became', 'eg', 'yours', 'thin', 'cry', 'it', 'whereupon', 'herself', 'third', 'done', 'indeed', 'in', 'themselves', 'ltd', 'the', 'forty', 'those', 'ie', 'one', 'whoever', 'her', 'how', 'serious', 'interest', 'that', 'with', 'on', 'anyone', 'twenty', 'yourselves', 'seemed', 'eleven', 'will', 'too', 'you', 'part', 'should', 'while', 'sincere', 'nor', 'whole', 'mine', 'and', 'find', 'who', 'myself', 'some', 'am', 'their', 'rather', 'do', 'above', 'cannot', 'all', 'get', 'within', 'even', 'once', 'another', 'a', 'fifty', 'itself', 'they', 'afterwards', 'sometime', 'cant', 'someone', 'other', 'well', 'we', 'otherwise', 'many', 'until', 'per', 'me', 'had', 'neither', 'amoungst', 'sometimes', 'six', 'because', 'my', 'three', 'but', 'still', 'four', 'ours', 'most', 'each', 'thence', 'see', 'beyond', 'wherever', 'thereby', 'after', 'against', 'always', 'moreover', 'also', 'hers', 'to', 'please', 'become', 'formerly', 'when', 'along', 'made', 'move', 'becoming', 'somewhere', 'behind', 'under', 'every', 'never', 'again', 'as', 'somehow', 'show', 'latterly', 'now', 'co', 'not', 'only', 'might', 'name', 'been', 'onto', 'beside', 'them', 'un', 'almost', 're', 'she', 'everywhere', 'there', 'whence', 'fire', 'found', 'everyone', 'keep', 'give', 'he', 'your', 'bill', 'has', 'full', 'upon', 'why', 'or', 'last', 'nobody', 'whether', 'nowhere', 'if', 'mostly', 'here', 'about', 'meanwhile', 'fifteen', 'though', 'own', 'whatever', 'whenever', 'himself', 'latter', 'out', 'during', 'its', 'off', 'already', 'con', 'whereafter', 'hereafter', 'none', 'such', 'beforehand', 'nevertheless', 'five', 'back', 'down', 'alone', 'bottom', 'hundred', 'sixty', 'therein', 'inc', 'over', 'due', 'are', 'several', 'whither', 'amongst', 'detail', 'toward', 'elsewhere', 'noone', 'where', 'anywhere', 'whose', 'often', 'at', 'wherein', 'call', 'whereby', 'since', 'have', 'mill', 'ourselves', 'by', 'his', 'whereas', 'across', 'among', 'more', 'perhaps', 'together', 'which', 'any', 'thru', 'of', 'however', 'around', 'may', 'besides', 'same', 'is', 'although', 'yet', 'front', 'must', 'others', 'was', 'anything', 'few', 'two', 'throughout', 'can', 'former', 'would', 'than', 'describe', 'de', 'thereafter', 'etc', 'into', 'much', 'thereupon', 'an', 'go', 'whom', 'very', 'be', 'top', 'enough', 'what', 'thick'})\n"
     ]
    },
    {
     "name": "stderr",
     "output_type": "stream",
     "text": [
      "C:\\ProgramData\\Anaconda3\\lib\\site-packages\\sklearn\\utils\\deprecation.py:143: FutureWarning: The sklearn.feature_extraction.stop_words module is  deprecated in version 0.22 and will be removed in version 0.24. The corresponding classes / functions should instead be imported from sklearn.feature_extraction.text. Anything that cannot be imported from sklearn.feature_extraction.text is now part of the private API.\n",
      "  warnings.warn(message, FutureWarning)\n"
     ]
    }
   ],
   "source": [
    "from sklearn.feature_extraction import stop_words\n",
    "print(stop_words.ENGLISH_STOP_WORDS)"
   ]
  },
  {
   "cell_type": "markdown",
   "metadata": {},
   "source": [
    "You should have seen a large list of words that looks like:\n",
    "\n",
    "```frozenset({'across', 'mine', 'cannot', ...})```\n",
    "\n",
    "`frozenset` is a type of Python object that is immutable. In this lab you can use it just like an array without conversion."
   ]
  },
  {
   "cell_type": "markdown",
   "metadata": {},
   "source": [
    "Next, test your function with supplying `stop_words.ENGLISH_STOP_WORDS` as the second parameter."
   ]
  },
  {
   "cell_type": "code",
   "execution_count": 11,
   "metadata": {},
   "outputs": [
    {
     "name": "stdout",
     "output_type": "stream",
     "text": [
      "{'bag_of_words': ['ironhack', 'cool', 'love', 'student'], 'term_freq': [[1, 1, 0, 0], [1, 0, 1, 0], [1, 0, 0, 1]]}\n"
     ]
    }
   ],
   "source": [
    "bow = get_bow_from_docs(docs, stop_words.ENGLISH_STOP_WORDS)\n",
    "\n",
    "print(bow)"
   ]
  },
  {
   "cell_type": "markdown",
   "metadata": {},
   "source": [
    "You should have seen:\n",
    "\n",
    "```{'bag_of_words': ['ironhack', 'cool', 'love', 'student'], 'term_freq': [[1, 1, 0, 0], [1, 0, 1, 0], [1, 0, 0, 1]]}```"
   ]
  },
  {
   "cell_type": "code",
   "execution_count": null,
   "metadata": {},
   "outputs": [],
   "source": []
  }
 ],
 "metadata": {
  "kernelspec": {
   "display_name": "Python 3",
   "language": "python",
   "name": "python3"
  },
  "language_info": {
   "codemirror_mode": {
    "name": "ipython",
    "version": 3
   },
   "file_extension": ".py",
   "mimetype": "text/x-python",
   "name": "python",
   "nbconvert_exporter": "python",
   "pygments_lexer": "ipython3",
   "version": "3.8.3"
  }
 },
 "nbformat": 4,
 "nbformat_minor": 2
}
